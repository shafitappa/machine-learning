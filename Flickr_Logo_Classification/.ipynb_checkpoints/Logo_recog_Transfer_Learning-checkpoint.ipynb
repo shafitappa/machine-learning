{
 "cells": [
  {
   "cell_type": "markdown",
   "metadata": {},
   "source": [
    "# Image classification using Keras VGG16 trained model (Transfer Learning)\n",
    "\n",
    "In this notebook, I am using keras Vgg16 model and appending a fully connected layer to vgg16 model and just training fully connected layer for classification.\n",
    "\n",
    "Steps followed are:\n",
    "\n",
    "1. Creatd a csv file using the text file from Flickr. This csv will have image_name, Logo_Name, Subset_class, x1,y1,x2,y2 co-ordinates of the images\n",
    "2. Using label encoder, added another column which contains numeric label for each logo\n",
    "3. Using the co-ordinates from the csv file, parsing the image using openCV\n",
    "4. Resize the parsed image and save the image to the drive\n",
    "5. Creating a new data frame which will have the file path, label other required information of the new image\n",
    "6. Using ImageDataGenerator from keras, Augumenting image by\n",
    "    i.   Rotating the image by 60 degrees\n",
    "    ii.  Changing the brightness of the image\n",
    "    iii. Flipping the image vertically and horizonatlly\n",
    "7. Created train, validation and test datasets and also respective ImageDataGenerators for each set\n",
    "8. Create object of Vgg16 trained model from keras and connected a fully connected network at the end of this vgg16 model\n",
    "9. Update the property of Vgg16 model so that it is not trained when training the classifier\n",
    "10. Define a check point which will save best weights, these weights are used to load the best model from training epochs\n",
    "11. Start training the model with defined number of epochs \n",
    "12. Here i am not using a custom optimizer. We can also use optimizer with our own hyper parameters but I am just making use \n",
    "    of Adam optimizer with default hyper parameters. If the accuracy of the model is not good, switch to optimizer with your       set of hyper parameters\n",
    "13. Plotting the train and validation loss which gives us a good understing of how model is fitting\n",
    "14. Load the best weights from training and compile the model. Save the model for future use\n",
    "15. Showing the accuracy of the model with test data"
   ]
  },
  {
   "cell_type": "markdown",
   "metadata": {},
   "source": [
    "### Loading the required libraries"
   ]
  },
  {
   "cell_type": "code",
   "execution_count": 1,
   "metadata": {},
   "outputs": [
    {
     "name": "stderr",
     "output_type": "stream",
     "text": [
      "Using TensorFlow backend.\n"
     ]
    }
   ],
   "source": [
    "import numpy as np\n",
    "import pandas as pd\n",
    "import os\n",
    "import cv2\n",
    "#from itertools import product\n",
    "from sklearn.model_selection import train_test_split\n",
    "from sklearn.preprocessing import LabelEncoder\n",
    "#from scipy import ndimage\n",
    "from keras.preprocessing.image import load_img\n",
    "from keras.preprocessing.image import img_to_array\n",
    "from keras.preprocessing.image import ImageDataGenerator\n",
    "from keras.models import Sequential, load_model\n",
    "from keras.layers import Conv2D, MaxPooling2D, Activation, Dropout, Flatten, Dense, Input\n",
    "from keras import applications, optimizers\n",
    "from keras.applications import VGG16\n",
    "from keras.applications.vgg16 import preprocess_input\n",
    "from keras.callbacks import ModelCheckpoint"
   ]
  },
  {
   "cell_type": "markdown",
   "metadata": {},
   "source": [
    "### Loading the csv using pandas"
   ]
  },
  {
   "cell_type": "code",
   "execution_count": 2,
   "metadata": {},
   "outputs": [
    {
     "data": {
      "text/html": [
       "<div>\n",
       "<style scoped>\n",
       "    .dataframe tbody tr th:only-of-type {\n",
       "        vertical-align: middle;\n",
       "    }\n",
       "\n",
       "    .dataframe tbody tr th {\n",
       "        vertical-align: top;\n",
       "    }\n",
       "\n",
       "    .dataframe thead th {\n",
       "        text-align: right;\n",
       "    }\n",
       "</style>\n",
       "<table border=\"1\" class=\"dataframe\">\n",
       "  <thead>\n",
       "    <tr style=\"text-align: right;\">\n",
       "      <th></th>\n",
       "      <th>Image_Name</th>\n",
       "      <th>Logo_Name</th>\n",
       "      <th>Subset_Class</th>\n",
       "      <th>X1</th>\n",
       "      <th>Y1</th>\n",
       "      <th>X2</th>\n",
       "      <th>Y2</th>\n",
       "    </tr>\n",
       "  </thead>\n",
       "  <tbody>\n",
       "    <tr>\n",
       "      <th>0</th>\n",
       "      <td>144503924.jpg</td>\n",
       "      <td>Adidas</td>\n",
       "      <td>1</td>\n",
       "      <td>38</td>\n",
       "      <td>12</td>\n",
       "      <td>234</td>\n",
       "      <td>142</td>\n",
       "    </tr>\n",
       "    <tr>\n",
       "      <th>1</th>\n",
       "      <td>2451569770.jpg</td>\n",
       "      <td>Adidas</td>\n",
       "      <td>1</td>\n",
       "      <td>242</td>\n",
       "      <td>208</td>\n",
       "      <td>413</td>\n",
       "      <td>331</td>\n",
       "    </tr>\n",
       "    <tr>\n",
       "      <th>2</th>\n",
       "      <td>390321909.jpg</td>\n",
       "      <td>Adidas</td>\n",
       "      <td>1</td>\n",
       "      <td>13</td>\n",
       "      <td>5</td>\n",
       "      <td>89</td>\n",
       "      <td>60</td>\n",
       "    </tr>\n",
       "    <tr>\n",
       "      <th>3</th>\n",
       "      <td>4761260517.jpg</td>\n",
       "      <td>Adidas</td>\n",
       "      <td>1</td>\n",
       "      <td>43</td>\n",
       "      <td>122</td>\n",
       "      <td>358</td>\n",
       "      <td>354</td>\n",
       "    </tr>\n",
       "    <tr>\n",
       "      <th>4</th>\n",
       "      <td>4763210295.jpg</td>\n",
       "      <td>Adidas</td>\n",
       "      <td>1</td>\n",
       "      <td>83</td>\n",
       "      <td>63</td>\n",
       "      <td>130</td>\n",
       "      <td>93</td>\n",
       "    </tr>\n",
       "  </tbody>\n",
       "</table>\n",
       "</div>"
      ],
      "text/plain": [
       "       Image_Name Logo_Name  Subset_Class   X1   Y1   X2   Y2\n",
       "0   144503924.jpg    Adidas             1   38   12  234  142\n",
       "1  2451569770.jpg    Adidas             1  242  208  413  331\n",
       "2   390321909.jpg    Adidas             1   13    5   89   60\n",
       "3  4761260517.jpg    Adidas             1   43  122  358  354\n",
       "4  4763210295.jpg    Adidas             1   83   63  130   93"
      ]
     },
     "execution_count": 2,
     "metadata": {},
     "output_type": "execute_result"
    }
   ],
   "source": [
    "# Converted the txt file from flicker to a csv \n",
    "image_data = pd.read_csv(\"Image_Labels.csv\")\n",
    "image_data.head()"
   ]
  },
  {
   "cell_type": "markdown",
   "metadata": {},
   "source": [
    "### Using encoder to create numeric labels"
   ]
  },
  {
   "cell_type": "code",
   "execution_count": 3,
   "metadata": {},
   "outputs": [],
   "source": [
    "label_encoder = LabelEncoder()\n",
    "encoded_labels = label_encoder.fit_transform(image_data.Logo_Name)\n",
    "image_data[\"Labels\"] = encoded_labels"
   ]
  },
  {
   "cell_type": "markdown",
   "metadata": {},
   "source": [
    "### Declaring the required variables"
   ]
  },
  {
   "cell_type": "code",
   "execution_count": 4,
   "metadata": {},
   "outputs": [],
   "source": [
    "image_path = './flickr_logos_27_dataset_images'\n",
    "image_width = 32\n",
    "image_height = 32\n",
    "data_dir = './Augmented_images'\n",
    "image_ext = \".jpg\"\n",
    "if not os.path.exists(data_dir):\n",
    "        os.makedirs(data_dir)"
   ]
  },
  {
   "cell_type": "markdown",
   "metadata": {},
   "source": [
    "### Creating a new dataframe by looping through each file from the training set. \n",
    "     Cropping the image using the given co-ordinates\n",
    "     Resizing the image to 32 X 32\n",
    "     Saving the image to local drive"
   ]
  },
  {
   "cell_type": "code",
   "execution_count": 5,
   "metadata": {},
   "outputs": [],
   "source": [
    "augmented_image_df = pd.DataFrame(columns=[\"Image_File_Path\",\"Label\", \"Subset_label\", \"Brand_Name\"])\n",
    "for index, row in image_data.iterrows():\n",
    "    file_path = os.path.join(image_path, row[\"Image_Name\"])\n",
    "    label =row[\"Labels\"] \n",
    "    subset_class =row[\"Subset_Class\"]\n",
    "    brand_name = row[\"Logo_Name\"]\n",
    "    #print(file_path)\n",
    "    image = cv2.imread(file_path)\n",
    "    y1,y2,x1,x2 = int(row[\"Y1\"]),int(row[\"Y2\"]),int(row[\"X1\"]),int(row[\"X2\"])\n",
    "    crop_img = image[y1:y2, x1:x2]\n",
    "    # Shafi : For few images, co ordinates are not proper. For example 2662264721.jpg has co-ordinates\n",
    "    #         as 3,197,3,197 which would result in a image of size zero or an empty image            \n",
    "    if crop_img.size > 0:\n",
    "        resized_img = cv2.resize(crop_img, (image_width,image_height))\n",
    "        new_file_name = str(index)+\"_\"+brand_name+\"_\"+str(subset_class)+\"_\"+str(label)+image_ext\n",
    "        newfile_path = os.path.join(data_dir,new_file_name)\n",
    "        augmented_image_df.loc[len(augmented_image_df)] = [newfile_path,label, subset_class,brand_name]\n",
    "        cv2.imwrite(newfile_path,resized_img)\n",
    "\n"
   ]
  },
  {
   "cell_type": "markdown",
   "metadata": {},
   "source": [
    "### Performing custom image augmentation on the cropped logo dataset by using ImageDataGenerator\n",
    "\n",
    "1. Rotating the image\n",
    "2. Flipping the image\n",
    "3. Changing brightness of the image\n",
    "4. Also required image pre-processing"
   ]
  },
  {
   "cell_type": "code",
   "execution_count": 6,
   "metadata": {},
   "outputs": [],
   "source": [
    "# As the data set is already cropped, i am not using vertical and horizontal shift\n",
    "# genrating new set of data by rotating, flipping and changing the brightness of the image\n",
    "datagen = ImageDataGenerator(   featurewise_center=True,\n",
    "                                featurewise_std_normalization=True,\n",
    "                                rotation_range=60,\n",
    "                                brightness_range=[0.3,0.7],\n",
    "                                horizontal_flip=True,\n",
    "                                vertical_flip = True)\n",
    "\n",
    "valgen = ImageDataGenerator(   featurewise_center=True,\n",
    "                                featurewise_std_normalization=True,\n",
    "                                rotation_range=60,\n",
    "                                brightness_range=[0.3,0.7],\n",
    "                                horizontal_flip=True,\n",
    "                                vertical_flip = True)\n",
    "batch_size = 20"
   ]
  },
  {
   "cell_type": "markdown",
   "metadata": {},
   "source": [
    "### Creating train, test and validation data sets"
   ]
  },
  {
   "cell_type": "code",
   "execution_count": 7,
   "metadata": {},
   "outputs": [],
   "source": [
    "train_data_frame, test_data_frame = train_test_split(augmented_image_df, test_size=0.2)\n",
    "train_df, validation_df = train_test_split(train_data_frame, test_size=0.2)"
   ]
  },
  {
   "cell_type": "markdown",
   "metadata": {},
   "source": [
    "### Creating ImageDataGenerators for train and validation"
   ]
  },
  {
   "cell_type": "code",
   "execution_count": 8,
   "metadata": {},
   "outputs": [
    {
     "name": "stdout",
     "output_type": "stream",
     "text": [
      "Found 3624 images belonging to 27 classes.\n",
      "Found 725 images belonging to 27 classes.\n"
     ]
    }
   ],
   "source": [
    "train_generator = datagen.flow_from_dataframe(train_data_frame,x_col = 'Image_File_Path',\n",
    "y_col = 'Brand_Name',\n",
    "directory = None,\n",
    "target_size=(image_width, image_height),\n",
    "batch_size=batch_size,\n",
    "class_mode='sparse')\n",
    "\n",
    "\n",
    "validation_generator = valgen.flow_from_dataframe(validation_df,x_col = 'Image_File_Path',\n",
    "y_col = 'Brand_Name',\n",
    "directory = None,\n",
    "target_size=(image_width, image_height),\n",
    "batch_size=batch_size,\n",
    "class_mode='sparse')"
   ]
  },
  {
   "cell_type": "markdown",
   "metadata": {},
   "source": [
    "### Creating object of VGG16 from keras"
   ]
  },
  {
   "cell_type": "code",
   "execution_count": 9,
   "metadata": {},
   "outputs": [
    {
     "name": "stdout",
     "output_type": "stream",
     "text": [
      "WARNING:tensorflow:From c:\\python37_64bit\\lib\\site-packages\\tensorflow\\python\\framework\\op_def_library.py:263: colocate_with (from tensorflow.python.framework.ops) is deprecated and will be removed in a future version.\n",
      "Instructions for updating:\n",
      "Colocations handled automatically by placer.\n",
      "_________________________________________________________________\n",
      "Layer (type)                 Output Shape              Param #   \n",
      "=================================================================\n",
      "input_1 (InputLayer)         (None, 32, 32, 3)         0         \n",
      "_________________________________________________________________\n",
      "block1_conv1 (Conv2D)        (None, 32, 32, 64)        1792      \n",
      "_________________________________________________________________\n",
      "block1_conv2 (Conv2D)        (None, 32, 32, 64)        36928     \n",
      "_________________________________________________________________\n",
      "block1_pool (MaxPooling2D)   (None, 16, 16, 64)        0         \n",
      "_________________________________________________________________\n",
      "block2_conv1 (Conv2D)        (None, 16, 16, 128)       73856     \n",
      "_________________________________________________________________\n",
      "block2_conv2 (Conv2D)        (None, 16, 16, 128)       147584    \n",
      "_________________________________________________________________\n",
      "block2_pool (MaxPooling2D)   (None, 8, 8, 128)         0         \n",
      "_________________________________________________________________\n",
      "block3_conv1 (Conv2D)        (None, 8, 8, 256)         295168    \n",
      "_________________________________________________________________\n",
      "block3_conv2 (Conv2D)        (None, 8, 8, 256)         590080    \n",
      "_________________________________________________________________\n",
      "block3_conv3 (Conv2D)        (None, 8, 8, 256)         590080    \n",
      "_________________________________________________________________\n",
      "block3_pool (MaxPooling2D)   (None, 4, 4, 256)         0         \n",
      "_________________________________________________________________\n",
      "block4_conv1 (Conv2D)        (None, 4, 4, 512)         1180160   \n",
      "_________________________________________________________________\n",
      "block4_conv2 (Conv2D)        (None, 4, 4, 512)         2359808   \n",
      "_________________________________________________________________\n",
      "block4_conv3 (Conv2D)        (None, 4, 4, 512)         2359808   \n",
      "_________________________________________________________________\n",
      "block4_pool (MaxPooling2D)   (None, 2, 2, 512)         0         \n",
      "_________________________________________________________________\n",
      "block5_conv1 (Conv2D)        (None, 2, 2, 512)         2359808   \n",
      "_________________________________________________________________\n",
      "block5_conv2 (Conv2D)        (None, 2, 2, 512)         2359808   \n",
      "_________________________________________________________________\n",
      "block5_conv3 (Conv2D)        (None, 2, 2, 512)         2359808   \n",
      "_________________________________________________________________\n",
      "block5_pool (MaxPooling2D)   (None, 1, 1, 512)         0         \n",
      "=================================================================\n",
      "Total params: 14,714,688\n",
      "Trainable params: 14,714,688\n",
      "Non-trainable params: 0\n",
      "_________________________________________________________________\n"
     ]
    }
   ],
   "source": [
    "base_model = VGG16(weights=\"imagenet\", include_top=False, input_shape=(image_width, image_height, 3))\n",
    "base_model.summary()"
   ]
  },
  {
   "cell_type": "markdown",
   "metadata": {},
   "source": [
    "### Freezing early layers of VGG16 model"
   ]
  },
  {
   "cell_type": "code",
   "execution_count": 10,
   "metadata": {},
   "outputs": [],
   "source": [
    "base_model.trainable = False"
   ]
  },
  {
   "cell_type": "markdown",
   "metadata": {},
   "source": [
    "### Creating a sequntial model and adding VGG16 as the first layer and also adding other dense alyers"
   ]
  },
  {
   "cell_type": "code",
   "execution_count": 11,
   "metadata": {},
   "outputs": [
    {
     "name": "stdout",
     "output_type": "stream",
     "text": [
      "WARNING:tensorflow:From c:\\python37_64bit\\lib\\site-packages\\keras\\backend\\tensorflow_backend.py:3445: calling dropout (from tensorflow.python.ops.nn_ops) with keep_prob is deprecated and will be removed in a future version.\n",
      "Instructions for updating:\n",
      "Please use `rate` instead of `keep_prob`. Rate should be set to `rate = 1 - keep_prob`.\n",
      "_________________________________________________________________\n",
      "Layer (type)                 Output Shape              Param #   \n",
      "=================================================================\n",
      "vgg16 (Model)                (None, 1, 1, 512)         14714688  \n",
      "_________________________________________________________________\n",
      "flatten_1 (Flatten)          (None, 512)               0         \n",
      "_________________________________________________________________\n",
      "dense_1 (Dense)              (None, 256)               131328    \n",
      "_________________________________________________________________\n",
      "dropout_1 (Dropout)          (None, 256)               0         \n",
      "_________________________________________________________________\n",
      "dense_2 (Dense)              (None, 128)               32896     \n",
      "_________________________________________________________________\n",
      "dense_3 (Dense)              (None, 27)                3483      \n",
      "=================================================================\n",
      "Total params: 14,882,395\n",
      "Trainable params: 167,707\n",
      "Non-trainable params: 14,714,688\n",
      "_________________________________________________________________\n"
     ]
    }
   ],
   "source": [
    "model_tl = Sequential()\n",
    "model_tl.add(base_model)\n",
    "model_tl.add(Flatten())\n",
    "\n",
    "model_tl.add(Dense(256, activation=\"relu\"))\n",
    "model_tl.add(Dropout(0.5))\n",
    "model_tl.add(Dense(128, activation=\"relu\"))\n",
    "\n",
    "model_tl.add(Dense(27, activation=\"softmax\"))\n",
    "model_tl.summary()\n",
    "checkpoint_name = './Transfer_learning_weights.hdf5'"
   ]
  },
  {
   "cell_type": "markdown",
   "metadata": {},
   "source": [
    "### Creating a check point to save the best weights"
   ]
  },
  {
   "cell_type": "code",
   "execution_count": 12,
   "metadata": {},
   "outputs": [],
   "source": [
    "#compiling\n",
    "model_tl.compile(loss='sparse_categorical_crossentropy',optimizer=\"adam\", metrics=['accuracy'])\n",
    "checkpoint = ModelCheckpoint(checkpoint_name, monitor='val_acc', verbose=0, save_best_only=True, mode='auto',\n",
    "                                 save_weights_only=True)\n",
    "callbacks_list = [checkpoint]"
   ]
  },
  {
   "cell_type": "markdown",
   "metadata": {},
   "source": [
    "### Training the model with 25 epochs"
   ]
  },
  {
   "cell_type": "code",
   "execution_count": 13,
   "metadata": {},
   "outputs": [
    {
     "name": "stdout",
     "output_type": "stream",
     "text": [
      "WARNING:tensorflow:From c:\\python37_64bit\\lib\\site-packages\\tensorflow\\python\\ops\\math_ops.py:3066: to_int32 (from tensorflow.python.ops.math_ops) is deprecated and will be removed in a future version.\n",
      "Instructions for updating:\n",
      "Use tf.cast instead.\n",
      "Epoch 1/25\n"
     ]
    },
    {
     "name": "stderr",
     "output_type": "stream",
     "text": [
      "c:\\python37_64bit\\lib\\site-packages\\keras_preprocessing\\image\\image_data_generator.py:699: UserWarning: This ImageDataGenerator specifies `featurewise_center`, but it hasn't been fit on any training data. Fit it first by calling `.fit(numpy_data)`.\n",
      "  warnings.warn('This ImageDataGenerator specifies '\n",
      "c:\\python37_64bit\\lib\\site-packages\\keras_preprocessing\\image\\image_data_generator.py:707: UserWarning: This ImageDataGenerator specifies `featurewise_std_normalization`, but it hasn't been fit on any training data. Fit it first by calling `.fit(numpy_data)`.\n",
      "  warnings.warn('This ImageDataGenerator specifies '\n"
     ]
    },
    {
     "name": "stdout",
     "output_type": "stream",
     "text": [
      "144/144 [==============================] - 20s 141ms/step - loss: 6.3898 - acc: 0.2951 - val_loss: 1.2412 - val_acc: 0.6792\n",
      "Epoch 2/25\n",
      "144/144 [==============================] - 20s 138ms/step - loss: 1.9302 - acc: 0.5733 - val_loss: 0.7406 - val_acc: 0.8000\n",
      "Epoch 3/25\n",
      "144/144 [==============================] - 20s 139ms/step - loss: 1.3495 - acc: 0.6701 - val_loss: 0.5448 - val_acc: 0.8468\n",
      "Epoch 4/25\n",
      "144/144 [==============================] - 20s 138ms/step - loss: 1.0810 - acc: 0.7174 - val_loss: 0.4264 - val_acc: 0.8794\n",
      "Epoch 5/25\n",
      "144/144 [==============================] - 20s 141ms/step - loss: 0.9281 - acc: 0.7566 - val_loss: 0.3192 - val_acc: 0.9149\n",
      "Epoch 6/25\n",
      "144/144 [==============================] - 21s 147ms/step - loss: 0.7741 - acc: 0.7913 - val_loss: 0.2778 - val_acc: 0.9277\n",
      "Epoch 7/25\n",
      "144/144 [==============================] - 21s 143ms/step - loss: 0.6870 - acc: 0.8167 - val_loss: 0.3111 - val_acc: 0.9121\n",
      "Epoch 8/25\n",
      "144/144 [==============================] - 21s 145ms/step - loss: 0.6609 - acc: 0.8146 - val_loss: 0.2656 - val_acc: 0.9234\n",
      "Epoch 9/25\n",
      "144/144 [==============================] - 20s 140ms/step - loss: 0.6682 - acc: 0.8295 - val_loss: 0.2488 - val_acc: 0.9305\n",
      "Epoch 10/25\n",
      "144/144 [==============================] - 20s 139ms/step - loss: 0.6131 - acc: 0.8344 - val_loss: 0.2228 - val_acc: 0.9404\n",
      "Epoch 11/25\n",
      "144/144 [==============================] - 20s 139ms/step - loss: 0.5242 - acc: 0.8500 - val_loss: 0.1838 - val_acc: 0.9546\n",
      "Epoch 12/25\n",
      "144/144 [==============================] - 20s 139ms/step - loss: 0.5005 - acc: 0.8663 - val_loss: 0.1845 - val_acc: 0.9461\n",
      "Epoch 13/25\n",
      "144/144 [==============================] - 20s 137ms/step - loss: 0.5655 - acc: 0.8493 - val_loss: 0.1352 - val_acc: 0.9645\n",
      "Epoch 14/25\n",
      "144/144 [==============================] - 20s 138ms/step - loss: 0.5213 - acc: 0.8639 - val_loss: 0.1586 - val_acc: 0.9589\n",
      "Epoch 15/25\n",
      "144/144 [==============================] - 20s 138ms/step - loss: 0.4683 - acc: 0.8715 - val_loss: 0.1007 - val_acc: 0.9688\n",
      "Epoch 16/25\n",
      "144/144 [==============================] - 20s 139ms/step - loss: 0.4288 - acc: 0.8816 - val_loss: 0.1041 - val_acc: 0.9787\n",
      "Epoch 17/25\n",
      "144/144 [==============================] - 20s 137ms/step - loss: 0.4183 - acc: 0.8823 - val_loss: 0.0895 - val_acc: 0.9716\n",
      "Epoch 18/25\n",
      "144/144 [==============================] - 20s 137ms/step - loss: 0.4037 - acc: 0.8875 - val_loss: 0.1112 - val_acc: 0.9660\n",
      "Epoch 19/25\n",
      "144/144 [==============================] - 20s 139ms/step - loss: 0.3898 - acc: 0.8951 - val_loss: 0.1106 - val_acc: 0.9702\n",
      "Epoch 20/25\n",
      "144/144 [==============================] - 20s 138ms/step - loss: 0.3947 - acc: 0.8944 - val_loss: 0.0830 - val_acc: 0.9830\n",
      "Epoch 21/25\n",
      "144/144 [==============================] - 20s 138ms/step - loss: 0.3772 - acc: 0.8920 - val_loss: 0.0842 - val_acc: 0.9801\n",
      "Epoch 22/25\n",
      "144/144 [==============================] - 20s 137ms/step - loss: 0.3759 - acc: 0.8972 - val_loss: 0.0688 - val_acc: 0.9816\n",
      "Epoch 23/25\n",
      "144/144 [==============================] - 20s 137ms/step - loss: 0.4098 - acc: 0.8969 - val_loss: 0.1020 - val_acc: 0.9688\n",
      "Epoch 24/25\n",
      "144/144 [==============================] - 20s 138ms/step - loss: 0.3298 - acc: 0.9080 - val_loss: 0.0591 - val_acc: 0.9801\n",
      "Epoch 25/25\n",
      "144/144 [==============================] - 20s 142ms/step - loss: 0.2918 - acc: 0.9181 - val_loss: 0.0716 - val_acc: 0.9830\n"
     ]
    },
    {
     "data": {
      "text/plain": [
       "<keras.callbacks.History at 0x2225655dc18>"
      ]
     },
     "execution_count": 13,
     "metadata": {},
     "output_type": "execute_result"
    }
   ],
   "source": [
    "model_tl.fit_generator(\n",
    "        train_generator,\n",
    "        steps_per_epoch=len(train_df)//batch_size,\n",
    "        epochs=25,\n",
    "        validation_data=validation_generator,\n",
    "        validation_steps=len(validation_df)//batch_size, callbacks=callbacks_list)"
   ]
  },
  {
   "cell_type": "markdown",
   "metadata": {},
   "source": [
    "### Plotting Trainning and validation loss"
   ]
  },
  {
   "cell_type": "code",
   "execution_count": 20,
   "metadata": {},
   "outputs": [
    {
     "name": "stdout",
     "output_type": "stream",
     "text": [
      "Training and Validation loss\n"
     ]
    },
    {
     "data": {
      "image/png": "[encoded data removed]",
      "text/plain": [
       "<Figure size 720x432 with 1 Axes>"
      ]
     },
     "metadata": {
      "needs_background": "light"
     },
     "output_type": "display_data"
    }
   ],
   "source": [
    "import matplotlib.pyplot as plt\n",
    "train_loss = model_tl.history.history['loss']\n",
    "valid_loss = model_tl.history.history['val_loss']\n",
    "epochs = len(train_loss)\n",
    "print(\"Training and Validation loss\")\n",
    "x_axis = range(0, epochs)\n",
    "plt.figure(figsize = (10,6))\n",
    "plt.plot(x_axis, train_loss, label='Train')\n",
    "plt.plot(x_axis, valid_loss, label='Validation')\n",
    "plt.legend()\n",
    "plt.xlabel(\"Epoc\")\n",
    "plt.ylabel(\"Loss\")\n",
    "plt.show()"
   ]
  },
  {
   "cell_type": "markdown",
   "metadata": {},
   "source": [
    "### loading the best weights from the training and compiling the model"
   ]
  },
  {
   "cell_type": "code",
   "execution_count": 14,
   "metadata": {},
   "outputs": [],
   "source": [
    "model_tl.load_weights('Transfer_learning_weights.hdf5')\n",
    "model_tl.compile(loss='sparse_categorical_crossentropy',optimizer=\"adam\", metrics=['accuracy'])"
   ]
  },
  {
   "cell_type": "code",
   "execution_count": 15,
   "metadata": {},
   "outputs": [],
   "source": [
    "model_tl.save(\"Transfer_learning_model.h5\")"
   ]
  },
  {
   "cell_type": "markdown",
   "metadata": {},
   "source": [
    "### Creating test ImageDataGenerator"
   ]
  },
  {
   "cell_type": "code",
   "execution_count": 21,
   "metadata": {},
   "outputs": [
    {
     "name": "stdout",
     "output_type": "stream",
     "text": [
      "Found 907 images belonging to 27 classes.\n"
     ]
    }
   ],
   "source": [
    "testgen = ImageDataGenerator(   featurewise_center=True,\n",
    "                                featurewise_std_normalization=True,\n",
    "                                rotation_range=30,\n",
    "                                brightness_range=[0.25,0.75],\n",
    "                                horizontal_flip=True,\n",
    "                                vertical_flip = True)\n",
    "\n",
    "\n",
    "test_generator = testgen.flow_from_dataframe(test_data_frame,x_col = 'Image_File_Path',\n",
    "y_col = 'Brand_Name',\n",
    "directory = None,\n",
    "target_size=(image_width, image_height),\n",
    "batch_size=batch_size,\n",
    "class_mode='sparse')"
   ]
  },
  {
   "cell_type": "markdown",
   "metadata": {},
   "source": [
    "### Validating the model with test data and printing the accuracy"
   ]
  },
  {
   "cell_type": "code",
   "execution_count": 22,
   "metadata": {},
   "outputs": [
    {
     "name": "stderr",
     "output_type": "stream",
     "text": [
      "c:\\python37_64bit\\lib\\site-packages\\keras_preprocessing\\image\\image_data_generator.py:699: UserWarning: This ImageDataGenerator specifies `featurewise_center`, but it hasn't been fit on any training data. Fit it first by calling `.fit(numpy_data)`.\n",
      "  warnings.warn('This ImageDataGenerator specifies '\n",
      "c:\\python37_64bit\\lib\\site-packages\\keras_preprocessing\\image\\image_data_generator.py:707: UserWarning: This ImageDataGenerator specifies `featurewise_std_normalization`, but it hasn't been fit on any training data. Fit it first by calling `.fit(numpy_data)`.\n",
      "  warnings.warn('This ImageDataGenerator specifies '\n"
     ]
    },
    {
     "name": "stdout",
     "output_type": "stream",
     "text": [
      "Test accuracy is :  94.81808087791602 %\n"
     ]
    }
   ],
   "source": [
    "nb_samples = len(test_data_frame)\n",
    "\n",
    "test_score = model_tl.evaluate_generator(test_generator,steps = nb_samples/batch_size)\n",
    "\n",
    "print(\"Test accuracy is : \", test_score[1]*100, \"%\")\n",
    "    "
   ]
  },
  {
   "cell_type": "code",
   "execution_count": null,
   "metadata": {},
   "outputs": [],
   "source": []
  }
 ],
 "metadata": {
  "kernelspec": {
   "display_name": "Python 3",
   "language": "python",
   "name": "python3"
  },
  "language_info": {
   "codemirror_mode": {
    "name": "ipython",
    "version": 3
   },
   "file_extension": ".py",
   "mimetype": "text/x-python",
   "name": "python",
   "nbconvert_exporter": "python",
   "pygments_lexer": "ipython3",
   "version": "3.7.3"
  }
 },
 "nbformat": 4,
 "nbformat_minor": 2
}
